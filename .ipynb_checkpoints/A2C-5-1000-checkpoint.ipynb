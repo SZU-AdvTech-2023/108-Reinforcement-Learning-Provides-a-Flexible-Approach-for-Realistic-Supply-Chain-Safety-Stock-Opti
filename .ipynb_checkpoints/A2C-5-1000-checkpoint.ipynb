{
 "cells": [
  {
   "cell_type": "code",
   "execution_count": null,
   "id": "4c972767",
   "metadata": {},
   "outputs": [],
   "source": [
    "import game\n",
    "\n",
    "from tqdm import tqdm_notebook\n",
    "import matplotlib.pyplot as plt\n",
    "import numpy as np\n",
    "\n",
    "import agent"
   ]
  },
  {
   "cell_type": "code",
   "execution_count": null,
   "id": "3afeacea",
   "metadata": {},
   "outputs": [],
   "source": [
    "def visualize(stateHistory, actionHistory, rewardHistory, N):\n",
    "    inventory = stateHistory[:, 0, :]\n",
    "    orders = actionHistory[:, 1, :]\n",
    "    serviceTimes = actionHistory[:, 0, :]\n",
    "    reorderPoints = stateHistory[:, 1, :]\n",
    "    \n",
    "    print(\"Time Series\")\n",
    "    for i in range(2, -1, -1):\n",
    "        plt.figure(figsize=(20, 4))\n",
    "        \n",
    "        alpha = 1 if i == 2 else 0.3\n",
    "#         plt.step(range(N+1), inventory[:, i] * np.roll(np.sign(orders[:, i]), -1), label=\"inventory\")        \n",
    "        plt.plot(range(N+1), inventory[:, i], label=\"inventory\", alpha=alpha, c='b', linestyle='--', drawstyle='steps')\n",
    "        plt.step(range(N+1), orders[:, i], label=\"order quantity\", c='orange')\n",
    "        if i == 2:\n",
    "            plt.step(range(N+1), reorderPoints[:, i], label=\"reorder point\", c='green')\n",
    "        plt.ylim((-5, 30))\n",
    "        plt.legend()\n",
    "    plt.show()\n",
    "\n",
    "    print(\"Service Time\")\n",
    "    for i in range(2, -1, -1):\n",
    "        plt.figure(figsize=(20, 4))\n",
    "        plt.step(range(N+1), serviceTimes[:, i], label=\"service time\")\n",
    "        plt.ylim((-5, 30))\n",
    "        plt.legend()\n",
    "    plt.show()\n",
    "\n",
    "    \n",
    "    print(\"Inventory\")\n",
    "    for i in range(2, -1, -1):\n",
    "        plt.figure(figsize=(20, 4))\n",
    "        plt.step(range(N+1), inventory[:, i] * np.sign(orders[:, i]), label=\"inventory\")\n",
    "        plt.ylim((-5, 30))\n",
    "        plt.legend()\n",
    "    plt.show()\n",
    "\n",
    "    print(\"Rewards\")\n",
    "    plt.figure(figsize=(20, 4))\n",
    "    plt.step(range(N+1), rewardHistory)\n",
    "    plt.show()"
   ]
  },
  {
   "cell_type": "code",
   "execution_count": null,
   "id": "99538a4b",
   "metadata": {},
   "outputs": [],
   "source": [
    "learningParams = {\n",
    "    \"gamma\": 0.2,\n",
    "    \"alpha\": 0.8,\n",
    "    \"epsilon\": 0.5\n",
    "}\n",
    "\n",
    "envParams = {\n",
    "    \"inventoryCost\": [5, 1000, 1000], \n",
    "    \"muDemand\": 2,\n",
    "    \"stdDemand\": 0.1,\n",
    "    \"retailerOrder\": 10,\n",
    "    \"stockoutCost\": 10000, #50000,\n",
    "    \"N\": 1000\n",
    "}"
   ]
  }
 ],
 "metadata": {
  "kernelspec": {
   "display_name": "Python 3 (ipykernel)",
   "language": "python",
   "name": "python3"
  },
  "language_info": {
   "codemirror_mode": {
    "name": "ipython",
    "version": 3
   },
   "file_extension": ".py",
   "mimetype": "text/x-python",
   "name": "python",
   "nbconvert_exporter": "python",
   "pygments_lexer": "ipython3",
   "version": "3.11.4"
  }
 },
 "nbformat": 4,
 "nbformat_minor": 5
}
